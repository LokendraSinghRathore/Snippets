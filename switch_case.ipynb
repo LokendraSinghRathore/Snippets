{
  "nbformat": 4,
  "nbformat_minor": 0,
  "metadata": {
    "colab": {
      "name": "switch case.ipynb",
      "provenance": [],
      "authorship_tag": "ABX9TyNLlajSE1Y4xgpkgNaIZ/fa"
    },
    "kernelspec": {
      "name": "python3",
      "display_name": "Python 3"
    },
    "language_info": {
      "name": "python"
    }
  },
  "cells": [
    {
      "cell_type": "code",
      "metadata": {
        "id": "SRWw99xabidP"
      },
      "source": [
        "def employee(id):\n",
        "  switcher={\n",
        "      \"101\":\"loksa\",\n",
        "      \"102\":\"king loksa\",\n",
        "      \"103\":\"only lonly\",\n",
        "  }\n",
        "  return switcher.get(id,\"invalid id\") "
      ],
      "execution_count": 11,
      "outputs": []
    },
    {
      "cell_type": "code",
      "metadata": {
        "colab": {
          "base_uri": "https://localhost:8080/"
        },
        "id": "cn2iPAgqckQv",
        "outputId": "2a602213-7f55-4f3e-d0a1-11243a5d5539"
      },
      "source": [
        "id= input(\"Enter your ID\\n\")\n",
        "print(employee(id))"
      ],
      "execution_count": 12,
      "outputs": [
        {
          "output_type": "stream",
          "text": [
            "Enter your ID\n",
            "1111\n",
            "invalid id\n"
          ],
          "name": "stdout"
        }
      ]
    }
  ]
}